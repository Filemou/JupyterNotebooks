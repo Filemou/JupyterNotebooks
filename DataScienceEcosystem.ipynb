{
 "cells": [
  {
   "cell_type": "markdown",
   "id": "6b85e121-ad30-4e2a-95d5-464b16578b08",
   "metadata": {},
   "source": [
    "# Data Science Tools and Ecosystem\n"
   ]
  },
  {
   "cell_type": "markdown",
   "id": "f2f5384a-9f43-47a1-bf6f-a11d4f12be21",
   "metadata": {},
   "source": [
    " In this notebook, Data Science Tools and Ecosystem are summarized.\n",
    "\n"
   ]
  },
  {
   "cell_type": "markdown",
   "id": "bd0dc2e4-29c2-4e4b-9a57-b7ad5c88227d",
   "metadata": {},
   "source": [
    "**Objectives:**\n",
    "- List popular languages for Data Science.\n",
    "- List popular libraries for Data Science.\n",
    "- Demonstrate basic arithmetic operations.\n",
    "- Convert minutes to hours\n"
   ]
  },
  {
   "cell_type": "markdown",
   "id": "51214a7c-7eaa-4520-9d5d-b2536b0f8248",
   "metadata": {},
   "source": [
    "Some of the popular languages that Data Scientists use are:\n",
    "1. Python\n",
    "2. R\n",
    "3. SQL\n"
   ]
  },
  {
   "cell_type": "markdown",
   "id": "f060e92a-715c-476d-842b-2739bdb88397",
   "metadata": {},
   "source": [
    "Some of the commonly used libraries used by Data Scientists include:\n",
    " 1. Panda\n",
    " 2. TensorFlow\n",
    " 3. NumPY"
   ]
  },
  {
   "cell_type": "markdown",
   "id": "081485bc-4b9e-4b20-9829-5f485079ca27",
   "metadata": {},
   "source": [
    "| Data Science Tools |"
   ]
  },
  {
   "cell_type": "markdown",
   "id": "0c896f2f-1df5-4610-9851-ca62fc1cbe42",
   "metadata": {},
   "source": [
    "### Below are a few examples of evaluating arithmetic expressions in Python"
   ]
  },
  {
   "cell_type": "code",
   "execution_count": 3,
   "id": "17b53b6a-551d-4c11-b95d-0ccb8c6f2c1f",
   "metadata": {},
   "outputs": [
    {
     "data": {
      "text/plain": [
       "17"
      ]
     },
     "execution_count": 3,
     "metadata": {},
     "output_type": "execute_result"
    }
   ],
   "source": [
    "# This a simple arithmetic expression to multiply then add integers\n",
    "(3 * 4) + 5\n"
   ]
  },
  {
   "cell_type": "code",
   "execution_count": 4,
   "id": "43f4b5f0-81a9-4e23-b292-8d29435e5eb5",
   "metadata": {},
   "outputs": [
    {
     "data": {
      "text/plain": [
       "3.3333333333333335"
      ]
     },
     "execution_count": 4,
     "metadata": {},
     "output_type": "execute_result"
    }
   ],
   "source": [
    "# This will convert 200 minutes to hours by diving by 60\n",
    "200 / 60"
   ]
  },
  {
   "cell_type": "markdown",
   "id": "395bc355-02c5-4cce-90de-c280c6f99166",
   "metadata": {},
   "source": [
    "## Author\n",
    "Panagiotis"
   ]
  },
  {
   "cell_type": "code",
   "execution_count": null,
   "id": "ecf8bb4f-763c-487b-b073-824cc27bbd99",
   "metadata": {},
   "outputs": [],
   "source": []
  }
 ],
 "metadata": {
  "kernelspec": {
   "display_name": "Python 3 (ipykernel)",
   "language": "python",
   "name": "python3"
  },
  "language_info": {
   "codemirror_mode": {
    "name": "ipython",
    "version": 3
   },
   "file_extension": ".py",
   "mimetype": "text/x-python",
   "name": "python",
   "nbconvert_exporter": "python",
   "pygments_lexer": "ipython3",
   "version": "3.12.0"
  }
 },
 "nbformat": 4,
 "nbformat_minor": 5
}
